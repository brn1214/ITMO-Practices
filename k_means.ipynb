{
  "cells": [
    {
      "cell_type": "markdown",
      "metadata": {
        "id": "view-in-github",
        "colab_type": "text"
      },
      "source": [
        "<a href=\"https://colab.research.google.com/github/brn1214/ITMO-Practices/blob/main/k_means.ipynb\" target=\"_parent\"><img src=\"https://colab.research.google.com/assets/colab-badge.svg\" alt=\"Open In Colab\"/></a>"
      ]
    },
    {
      "cell_type": "code",
      "execution_count": null,
      "id": "06400bfa",
      "metadata": {
        "id": "06400bfa"
      },
      "outputs": [],
      "source": [
        "from sklearn.cluster import KMeans\n",
        "import numpy as np\n",
        "import pandas as pd\n",
        "import numpy\n",
        "from sklearn.metrics import DistanceMetric"
      ]
    },
    {
      "cell_type": "code",
      "source": [
        "from google.colab import drive\n",
        "drive.mount('/drive/')"
      ],
      "metadata": {
        "colab": {
          "base_uri": "https://localhost:8080/"
        },
        "id": "6KjNLeO_TBtz",
        "outputId": "93288123-b4f5-4ca4-dfbe-280db3d071b0"
      },
      "id": "6KjNLeO_TBtz",
      "execution_count": null,
      "outputs": [
        {
          "output_type": "stream",
          "name": "stdout",
          "text": [
            "Mounted at /drive/\n"
          ]
        }
      ]
    },
    {
      "cell_type": "code",
      "execution_count": null,
      "id": "6418ca52",
      "metadata": {
        "id": "6418ca52"
      },
      "outputs": [],
      "source": [
        "data = pd.read_csv(\"/drive/MyDrive/itmo/colab/cluster.csv\", encoding = 'utf-8', delimiter=',')\n",
        "\n",
        "data2= data.drop('Object', axis=1)"
      ]
    },
    {
      "cell_type": "code",
      "execution_count": null,
      "id": "50c613fa",
      "metadata": {
        "id": "50c613fa",
        "outputId": "e897946c-798f-4a26-a4b2-34d932484ef5"
      },
      "outputs": [
        {
          "data": {
            "text/html": [
              "<div>\n",
              "<style scoped>\n",
              "    .dataframe tbody tr th:only-of-type {\n",
              "        vertical-align: middle;\n",
              "    }\n",
              "\n",
              "    .dataframe tbody tr th {\n",
              "        vertical-align: top;\n",
              "    }\n",
              "\n",
              "    .dataframe thead th {\n",
              "        text-align: right;\n",
              "    }\n",
              "</style>\n",
              "<table border=\"1\" class=\"dataframe\">\n",
              "  <thead>\n",
              "    <tr style=\"text-align: right;\">\n",
              "      <th></th>\n",
              "      <th>X</th>\n",
              "      <th>Y</th>\n",
              "      <th>Cluster</th>\n",
              "    </tr>\n",
              "  </thead>\n",
              "  <tbody>\n",
              "    <tr>\n",
              "      <th>0</th>\n",
              "      <td>1</td>\n",
              "      <td>12</td>\n",
              "      <td>0</td>\n",
              "    </tr>\n",
              "    <tr>\n",
              "      <th>1</th>\n",
              "      <td>20</td>\n",
              "      <td>6</td>\n",
              "      <td>1</td>\n",
              "    </tr>\n",
              "    <tr>\n",
              "      <th>2</th>\n",
              "      <td>16</td>\n",
              "      <td>5</td>\n",
              "      <td>2</td>\n",
              "    </tr>\n",
              "    <tr>\n",
              "      <th>3</th>\n",
              "      <td>6</td>\n",
              "      <td>15</td>\n",
              "      <td>1</td>\n",
              "    </tr>\n",
              "    <tr>\n",
              "      <th>4</th>\n",
              "      <td>7</td>\n",
              "      <td>3</td>\n",
              "      <td>1</td>\n",
              "    </tr>\n",
              "  </tbody>\n",
              "</table>\n",
              "</div>"
            ],
            "text/plain": [
              "    X   Y  Cluster\n",
              "0   1  12        0\n",
              "1  20   6        1\n",
              "2  16   5        2\n",
              "3   6  15        1\n",
              "4   7   3        1"
            ]
          },
          "execution_count": 37,
          "metadata": {},
          "output_type": "execute_result"
        }
      ],
      "source": [
        "data2.head()"
      ]
    },
    {
      "cell_type": "code",
      "execution_count": null,
      "id": "926dcd29",
      "metadata": {
        "colab": {
          "base_uri": "https://localhost:8080/"
        },
        "id": "926dcd29",
        "outputId": "baeedcd6-695b-4577-ce51-e56da776402c"
      },
      "outputs": [
        {
          "output_type": "stream",
          "name": "stdout",
          "text": [
            "     X   Y\n",
            "0    1  12\n",
            "1   20   6\n",
            "2   16   5\n",
            "3    6  15\n",
            "4    7   3\n",
            "5   19  15\n",
            "6    5   4\n",
            "7   18  15\n",
            "8    3   6\n",
            "9    3  18\n",
            "10  20  17\n",
            "11   1   8\n",
            "12  20  10\n",
            "13   8   9\n",
            "14   8   3\n"
          ]
        }
      ],
      "source": [
        "X = data2.drop('Cluster', axis=1)\n",
        "print(X)"
      ]
    },
    {
      "cell_type": "code",
      "execution_count": null,
      "id": "c96e1dd8",
      "metadata": {
        "colab": {
          "base_uri": "https://localhost:8080/"
        },
        "id": "c96e1dd8",
        "outputId": "ba1dd2b6-d88b-4924-c90e-838aec92c308"
      },
      "outputs": [
        {
          "output_type": "execute_result",
          "data": {
            "text/plain": [
              "KMeans(init=array([[ 7.5 , 12.  ],\n",
              "       [11.43,  8.43],\n",
              "       [11.25,  9.75]]),\n",
              "       max_iter=100, n_clusters=3, n_init=1)"
            ]
          },
          "metadata": {},
          "execution_count": 13
        }
      ],
      "source": [
        "kmeans = KMeans(n_clusters=3, init=np.array([[7.5, 12.0], [11.43, 8.43], [11.25, 9.75]]), max_iter=100, n_init=1)\n",
        "kmeans.fit(X)"
      ]
    },
    {
      "cell_type": "code",
      "execution_count": null,
      "id": "d4db16a5",
      "metadata": {
        "id": "d4db16a5"
      },
      "outputs": [],
      "source": []
    },
    {
      "cell_type": "code",
      "execution_count": null,
      "id": "cdb08f6c",
      "metadata": {
        "colab": {
          "base_uri": "https://localhost:8080/"
        },
        "id": "cdb08f6c",
        "outputId": "d5062528-2ba2-45a7-8810-790120c32832"
      },
      "outputs": [
        {
          "output_type": "stream",
          "name": "stdout",
          "text": [
            "[0 1 1 0 1 2 0 2 0 0 2 0 2 0 1]\n"
          ]
        }
      ],
      "source": [
        "y_kmeans = kmeans.predict(X)\n",
        "print(y_kmeans)"
      ]
    },
    {
      "cell_type": "code",
      "execution_count": null,
      "id": "5b4136a0",
      "metadata": {
        "colab": {
          "base_uri": "https://localhost:8080/"
        },
        "id": "5b4136a0",
        "outputId": "dc357e27-36d3-43e1-91d8-8c6d64791db2"
      },
      "outputs": [
        {
          "output_type": "stream",
          "name": "stdout",
          "text": [
            "[[ 3.85714286 10.28571429]\n",
            " [12.75        4.25      ]\n",
            " [19.25       14.25      ]] [0 1 1 0 1 2 0 2 0 0 2 0 2 0 1]\n"
          ]
        }
      ],
      "source": [
        "centers = kmeans.cluster_centers_\n",
        "lab = kmeans.labels_\n",
        "print(centers, lab)"
      ]
    },
    {
      "cell_type": "code",
      "execution_count": null,
      "id": "7a23abf3",
      "metadata": {
        "colab": {
          "base_uri": "https://localhost:8080/"
        },
        "id": "7a23abf3",
        "outputId": "99c92486-06d6-4baf-fd30-c5d229413038"
      },
      "outputs": [
        {
          "output_type": "stream",
          "name": "stdout",
          "text": [
            "[[0.         3.33197251]\n",
            " [3.33197251 0.        ]]\n",
            "[[0.         5.17844827]\n",
            " [5.17844827 0.        ]]\n",
            "[[0.         6.38876565]\n",
            " [6.38876565 0.        ]]\n",
            "[[0.         4.37058816]\n",
            " [4.37058816 0.        ]]\n",
            "[[0.         7.76175869]\n",
            " [7.76175869 0.        ]]\n",
            "[[0.         3.65892814]\n",
            " [3.65892814 0.        ]]\n",
            "[[0.         4.33777898]\n",
            " [4.33777898 0.        ]]\n"
          ]
        }
      ],
      "source": [
        "a = [[3.85714286, 10.28571429], [1, 12]]\n",
        "b = [[3.85714286, 10.28571429], [6, 15]]\n",
        "c = [[3.85714286, 10.28571429], [5, 4]]\n",
        "d = [[3.85714286, 10.28571429], [3, 6]]\n",
        "e = [[3.85714286, 10.28571429], [3, 18]]\n",
        "f = [[3.85714286, 10.28571429], [1, 8]]\n",
        "g = [[3.85714286, 10.28571429], [8, 9]]\n",
        "\n",
        "\n",
        "dist = DistanceMetric.get_metric('euclidean')\n",
        "print(dist.pairwise(a))\n",
        "print(dist.pairwise(b))\n",
        "print(dist.pairwise(c))\n",
        "print(dist.pairwise(d))\n",
        "print(dist.pairwise(e))\n",
        "print(dist.pairwise(f))\n",
        "print(dist.pairwise(g))\n"
      ]
    },
    {
      "cell_type": "code",
      "execution_count": null,
      "id": "07e1e152",
      "metadata": {
        "colab": {
          "base_uri": "https://localhost:8080/"
        },
        "id": "07e1e152",
        "outputId": "65940a83-3a0a-4284-8ff1-3ce46c5ff03a"
      },
      "outputs": [
        {
          "output_type": "stream",
          "name": "stdout",
          "text": [
            "5.004034342857143\n"
          ]
        }
      ],
      "source": [
        "prom = (3.33197251 + 5.17844827 + 6.38876565 + 4.37058816 +7.76175869 +3.65892814 + 4.33777898)/7\n",
        "print(prom)"
      ]
    },
    {
      "cell_type": "code",
      "execution_count": null,
      "id": "be79cbfe",
      "metadata": {
        "id": "be79cbfe"
      },
      "outputs": [],
      "source": []
    }
  ],
  "metadata": {
    "kernelspec": {
      "display_name": "Python 3 (ipykernel)",
      "language": "python",
      "name": "python3"
    },
    "language_info": {
      "codemirror_mode": {
        "name": "ipython",
        "version": 3
      },
      "file_extension": ".py",
      "mimetype": "text/x-python",
      "name": "python",
      "nbconvert_exporter": "python",
      "pygments_lexer": "ipython3",
      "version": "3.9.15"
    },
    "colab": {
      "provenance": [],
      "include_colab_link": true
    }
  },
  "nbformat": 4,
  "nbformat_minor": 5
}